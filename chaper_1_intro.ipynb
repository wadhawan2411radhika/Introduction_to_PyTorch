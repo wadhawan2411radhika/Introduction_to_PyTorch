{
 "cells": [
  {
   "cell_type": "markdown",
   "metadata": {},
   "source": [
    "Core Features\n",
    "- Efficient tensor computations(helpful in DL)\n",
    "- GPU Acceleration\n",
    "- Uses Dynamic Computation Graph(can be changed in runtime, ease in debigging)\n",
    "- Automatic differentiation(back propagation - autograd)\n",
    "- Distributed training(difficult in single CPU/ GPU)\n",
    "- Interoperatability with other libraries"
   ]
  },
  {
   "cell_type": "code",
   "execution_count": 1,
   "metadata": {},
   "outputs": [
    {
     "name": "stdout",
     "output_type": "stream",
     "text": [
      "2.5.1\n"
     ]
    }
   ],
   "source": [
    "import torch\n",
    "print(torch.__version__)"
   ]
  },
  {
   "cell_type": "code",
   "execution_count": 2,
   "metadata": {},
   "outputs": [
    {
     "name": "stdout",
     "output_type": "stream",
     "text": [
      "GPU is not available\n"
     ]
    }
   ],
   "source": [
    "if torch.cuda.is_available():\n",
    "    print('GPU is available')\n",
    "    print(torch.cuda.get_device_name(0))\n",
    "else:\n",
    "    print('GPU is not available')"
   ]
  },
  {
   "cell_type": "markdown",
   "metadata": {},
   "source": [
    "### Creating Tensors"
   ]
  },
  {
   "cell_type": "code",
   "execution_count": 3,
   "metadata": {},
   "outputs": [
    {
     "name": "stdout",
     "output_type": "stream",
     "text": [
      "Empty tensor([[0., 0., 0.],\n",
      "        [0., 0., 0.]]) <class 'torch.Tensor'>\n",
      "Zeroes tensor([[0., 0., 0.],\n",
      "        [0., 0., 0.]])\n",
      "Ones tensor([[1., 1., 1.],\n",
      "        [1., 1., 1.]])\n",
      "Random from 0 to 1 tensor([[0.9207, 0.2548, 0.4316],\n",
      "        [0.1700, 0.6018, 0.9849]])\n"
     ]
    }
   ],
   "source": [
    "a = torch.empty(2,3)\n",
    "print(\"Empty\", a, type(a))\n",
    "# Allocates a space in memory, doesn't assign value, just shows whatever is present in that memory block.\n",
    "\n",
    "b = torch.zeros(2,3)\n",
    "print(\"Zeroes\", b)\n",
    "# Creates a tensor with given shape and value 0\n",
    "\n",
    "c = torch.ones(2,3)\n",
    "print(\"Ones\", c)\n",
    "# Creates a tensor with given shape and value 1\n",
    "\n",
    "d = torch.rand(2,3)\n",
    "print(\"Random from 0 to 1\", d)\n",
    "#reserves memory for this tensor with values at that memory location"
   ]
  },
  {
   "cell_type": "code",
   "execution_count": 4,
   "metadata": {},
   "outputs": [
    {
     "name": "stdout",
     "output_type": "stream",
     "text": [
      "Random from normal distribution tensor([[ 0.3367,  0.1288,  0.2345],\n",
      "        [ 0.2303, -1.1229, -0.1863]])\n",
      "From list tensor([[1, 2, 3],\n",
      "        [4, 5, 6]])\n"
     ]
    }
   ],
   "source": [
    "# For reproducibility\n",
    "torch.manual_seed(42)\n",
    "e = torch.randn(2,3)\n",
    "print(\"Random from normal distribution\", e)\n",
    "\n",
    "f = torch.tensor([[1, 2, 3], [4, 5, 6]])\n",
    "print(\"From list\", f)"
   ]
  },
  {
   "cell_type": "code",
   "execution_count": 9,
   "metadata": {},
   "outputs": [
    {
     "name": "stdout",
     "output_type": "stream",
     "text": [
      "Range tensor([0, 2, 4, 6, 8])\n",
      "Linspace tensor([ 0.0000,  2.5000,  5.0000,  7.5000, 10.0000])\n",
      "Identity matrix tensor([[1., 0., 0.],\n",
      "        [0., 1., 0.],\n",
      "        [0., 0., 1.]])\n",
      "Full tensor([[42, 42, 42],\n",
      "        [42, 42, 42]])\n"
     ]
    }
   ],
   "source": [
    "torch.arange(0, 10, 2)\n",
    "print(\"Range\", torch.arange(start=0, end=10, step=2))\n",
    "\n",
    "#Using linspace; linearly placed, 5 data points linearly placed between 0 and 10\n",
    "torch.linspace(0, 10, 5)\n",
    "print(\"Linspace\", torch.linspace(0, 10, 5))\n",
    "\n",
    "# Using eye | Identity matrix\n",
    "torch.eye(3)\n",
    "print(\"Identity matrix\", torch.eye(3))\n",
    "\n",
    "# Using full | All values are same\n",
    "torch.full((2,3), 42)\n",
    "print(\"Full\", torch.full((2,3), 42))"
   ]
  },
  {
   "cell_type": "markdown",
   "metadata": {},
   "source": [
    "### Tensor Shapes"
   ]
  },
  {
   "cell_type": "code",
   "execution_count": 6,
   "metadata": {},
   "outputs": [
    {
     "name": "stdout",
     "output_type": "stream",
     "text": [
      "torch.Size([2, 3])\n",
      "Empty_like tensor([[0, 0, 0],\n",
      "        [0, 0, 0]])\n",
      "Zeros_like tensor([[0, 0, 0],\n",
      "        [0, 0, 0]])\n",
      "Ones_like tensor([[1, 1, 1],\n",
      "        [1, 1, 1]])\n",
      "Rand_like tensor([[0.2666, 0.6274, 0.2696],\n",
      "        [0.4414, 0.2969, 0.8317]])\n"
     ]
    }
   ],
   "source": [
    "# Shape method\n",
    "x = torch.tensor([[1, 2, 3], [4, 5, 6]])\n",
    "print(x.shape)\n",
    "\n",
    "## Using empty_like, zeros_like, ones_like, rand_like\n",
    "y = torch.empty_like(x)\n",
    "print(\"Empty_like\", y) # mimicing the shape!!\n",
    "\n",
    "z = torch.zeros_like(x)\n",
    "print(\"Zeros_like\", z)\n",
    "\n",
    "o = torch.ones_like(x)\n",
    "print(\"Ones_like\", o)\n",
    "\n",
    "r = torch.rand_like(x, dtype=torch.float32) # explicit declaration to create floating numbers\n",
    "print(\"Rand_like\", r)"
   ]
  },
  {
   "cell_type": "markdown",
   "metadata": {},
   "source": [
    "### Tensor Data Types"
   ]
  },
  {
   "cell_type": "code",
   "execution_count": 12,
   "metadata": {},
   "outputs": [
    {
     "data": {
      "text/plain": [
       "torch.int64"
      ]
     },
     "execution_count": 12,
     "metadata": {},
     "output_type": "execute_result"
    }
   ],
   "source": [
    "x.dtype"
   ]
  },
  {
   "cell_type": "code",
   "execution_count": 10,
   "metadata": {},
   "outputs": [
    {
     "name": "stdout",
     "output_type": "stream",
     "text": [
      "tensor([[1., 2., 3.],\n",
      "        [4., 5., 6.]]) torch.float32\n",
      "tensor([[1, 2, 3],\n",
      "        [4, 5, 6]], dtype=torch.int32) torch.int32\n",
      "tensor([[1, 2, 3],\n",
      "        [4, 5, 6]]) torch.int64\n",
      "tensor([[1, 2, 3],\n",
      "        [4, 5, 6]], dtype=torch.int32)\n"
     ]
    }
   ],
   "source": [
    "## assign dtype\n",
    "\n",
    "x = torch.tensor([[1, 2, 3], [4, 5, 6]], dtype=torch.float32)\n",
    "print(x, x.dtype)\n",
    "\n",
    "y = torch.tensor([[1, 2, 3], [4, 5, 6]], dtype=torch.int32)\n",
    "print(y, y.dtype)\n",
    "\n",
    "z = torch.tensor([[1, 2, 3], [4, 5, 6]])\n",
    "print(z, z.dtype)\n",
    "\n",
    "a = x.to(torch.int32)\n",
    "print(a)"
   ]
  },
  {
   "cell_type": "markdown",
   "metadata": {},
   "source": [
    "### Mathematical Operations"
   ]
  },
  {
   "cell_type": "code",
   "execution_count": 16,
   "metadata": {},
   "outputs": [
    {
     "name": "stdout",
     "output_type": "stream",
     "text": [
      "Mat Mul tensor([[19., 22.],\n",
      "        [43., 50.]])\n",
      "Element wise multiplication tensor([[ 5., 12.],\n",
      "        [21., 32.]])\n"
     ]
    }
   ],
   "source": [
    "# a = torch.rand(2, 2)\n",
    "# b = torch.rand(2, 2)\n",
    "a = torch.tensor([[1, 2], [3, 4]], dtype=torch.float32)\n",
    "b = torch.Tensor([[5, 6], [7, 8]])\n",
    "\n",
    "## Addition\n",
    "c = a + b\n",
    "\n",
    "## Subtraction\n",
    "d = a - b\n",
    "\n",
    "## Multiplication\n",
    "e = a * b\n",
    "\n",
    "## Division\n",
    "f = a / b\n",
    "\n",
    "## All the scaler operation can be applied\n",
    "x + 2\n",
    "x - 2\n",
    "x * 2\n",
    "x * 100 // 3\n",
    "x ** 2\n",
    "x * 100 % 2\n",
    "## Matrix Multiplication(Mat Mul)\n",
    "g = a @ b\n",
    "g = torch.matmul(a, b)\n",
    "print(\"Mat Mul\", g)\n",
    "\n",
    "## Element wise multiplication\n",
    "h = a.mul(b)\n",
    "print(\"Element wise multiplication\", h)"
   ]
  },
  {
   "cell_type": "code",
   "execution_count": 15,
   "metadata": {},
   "outputs": [
    {
     "data": {
      "text/plain": [
       "torch.float32"
      ]
     },
     "execution_count": 15,
     "metadata": {},
     "output_type": "execute_result"
    }
   ],
   "source": [
    "b.dtype"
   ]
  },
  {
   "cell_type": "markdown",
   "metadata": {},
   "source": [
    "### Reduction Operation"
   ]
  },
  {
   "cell_type": "code",
   "execution_count": 17,
   "metadata": {},
   "outputs": [
    {
     "name": "stdout",
     "output_type": "stream",
     "text": [
      "All tensor(21.)\n",
      "Sum along axis 0 tensor([5., 7., 9.])\n",
      "Sum along axis 1 tensor([ 6., 15.])\n"
     ]
    }
   ],
   "source": [
    "a = torch.tensor([[1, 2, 3], [4, 5, 6]], dtype=torch.float32)\n",
    "print(\"All\", torch.sum(a))\n",
    "\n",
    "## Sum along axis\n",
    "print(\"Sum along axis 0\", torch.sum(a, axis=0))\n",
    "\n",
    "print(\"Sum along axis 1\", torch.sum(a, axis=1))\n"
   ]
  },
  {
   "cell_type": "code",
   "execution_count": 21,
   "metadata": {},
   "outputs": [
    {
     "name": "stdout",
     "output_type": "stream",
     "text": [
      "Mean tensor(3.5000)\n"
     ]
    }
   ],
   "source": [
    "## Mean\n",
    "print(\"Mean\", torch.mean(a))"
   ]
  },
  {
   "cell_type": "code",
   "execution_count": 24,
   "metadata": {},
   "outputs": [
    {
     "data": {
      "text/plain": [
       "tensor([[ 1.,  4.,  9.],\n",
       "        [16., 25., 36.]])"
      ]
     },
     "execution_count": 24,
     "metadata": {},
     "output_type": "execute_result"
    }
   ],
   "source": [
    "a = torch.tensor([[1, 2, 3], [4, 5, 6]], dtype=torch.float32)\n",
    "b = torch.tensor([[1, 2, 3], [4, 5, 6]], dtype=torch.float32)\n",
    "\n",
    "## Mat Mul\n",
    "a@b.T\n",
    "\n",
    "## Element wise multiplication\n",
    "a.mul(b)"
   ]
  },
  {
   "cell_type": "markdown",
   "metadata": {},
   "source": [
    "### Inplace operations"
   ]
  },
  {
   "cell_type": "code",
   "execution_count": 25,
   "metadata": {},
   "outputs": [
    {
     "name": "stdout",
     "output_type": "stream",
     "text": [
      "Before tensor([[1., 2., 3.],\n",
      "        [4., 5., 6.]])\n",
      "After tensor([[3., 4., 5.],\n",
      "        [6., 7., 8.]])\n"
     ]
    }
   ],
   "source": [
    "## inplace operations\n",
    "a = torch.tensor([[1, 2, 3], [4, 5, 6]], dtype=torch.float32)\n",
    "print(\"Before\", a)\n",
    "\n",
    "## no new tensor for the result\n",
    "a.add_(2)\n",
    "print(\"After\", a)"
   ]
  },
  {
   "cell_type": "code",
   "execution_count": null,
   "metadata": {},
   "outputs": [],
   "source": []
  },
  {
   "cell_type": "code",
   "execution_count": 18,
   "metadata": {},
   "outputs": [
    {
     "name": "stdout",
     "output_type": "stream",
     "text": [
      "Before 4551258064\n",
      "Before 4551258064\n",
      "Before clone 4551258064\n",
      "After clone 4557138640\n",
      "After tensor([[3., 4., 5.],\n",
      "        [6., 7., 8.]])\n",
      "After tensor([[1., 2., 3.],\n",
      "        [4., 5., 6.]])\n"
     ]
    }
   ],
   "source": [
    "## copying tensors\n",
    "a = torch.tensor([[1, 2, 3], [4, 5, 6]], dtype=torch.float32)\n",
    "b = a # same memory location\n",
    "print(\"Before\", id(a))\n",
    "print(\"Before\", id(b))\n",
    "b = a.clone() # different memory location\n",
    "print(\"Before clone\", id(a))\n",
    "print(\"After clone\", id(b))\n",
    "\n",
    "a.add_(2)\n",
    "print(\"After\", a)\n",
    "print(\"After\", b)"
   ]
  },
  {
   "cell_type": "markdown",
   "metadata": {},
   "source": [
    "### Tensor Operations on GPU"
   ]
  },
  {
   "cell_type": "code",
   "execution_count": 27,
   "metadata": {},
   "outputs": [
    {
     "name": "stdout",
     "output_type": "stream",
     "text": [
      "cpu\n",
      "tensor([[1., 2., 3.],\n",
      "        [4., 5., 6.]])\n"
     ]
    }
   ],
   "source": [
    "device = 'cuda' if torch.cuda.is_available() else 'cpu'\n",
    "print(device)\n",
    "\n",
    "## Create tensor on GPU\n",
    "a = torch.tensor([[1, 2, 3], [4, 5, 6]], dtype=torch.float32, device=device)\n",
    "print(a)    \n",
    "\n",
    "## Move tensor to GPU\n",
    "a = torch.tensor([[1, 2, 3], [4, 5, 6]], dtype=torch.float32)\n",
    "print(a)\n",
    "\n",
    "a = a.to(device)\n",
    "print(a)"
   ]
  },
  {
   "cell_type": "code",
   "execution_count": 29,
   "metadata": {},
   "outputs": [
    {
     "data": {
      "text/plain": [
       "torch.Size([2, 3, 4])"
      ]
     },
     "execution_count": 29,
     "metadata": {},
     "output_type": "execute_result"
    }
   ],
   "source": [
    "b = torch.rand(2, 3, 4)\n",
    "b.shape"
   ]
  },
  {
   "cell_type": "code",
   "execution_count": 30,
   "metadata": {},
   "outputs": [
    {
     "data": {
      "text/plain": [
       "torch.Size([3, 2, 4])"
      ]
     },
     "execution_count": 30,
     "metadata": {},
     "output_type": "execute_result"
    }
   ],
   "source": [
    "b.permute(1, 0, 2).shape # permute against the placing of the numbers as per index"
   ]
  },
  {
   "cell_type": "code",
   "execution_count": 31,
   "metadata": {},
   "outputs": [
    {
     "data": {
      "text/plain": [
       "torch.Size([1, 226, 226, 3])"
      ]
     },
     "execution_count": 31,
     "metadata": {},
     "output_type": "execute_result"
    }
   ],
   "source": [
    "## UnSqueeze\n",
    "\n",
    "c = torch.rand(226, 226, 3)\n",
    "c.unsqueeze(0).shape # adding dimension 1 at given index"
   ]
  },
  {
   "cell_type": "code",
   "execution_count": 22,
   "metadata": {},
   "outputs": [
    {
     "data": {
      "text/plain": [
       "torch.Size([226, 226, 3])"
      ]
     },
     "execution_count": 22,
     "metadata": {},
     "output_type": "execute_result"
    }
   ],
   "source": [
    "d = torch.rand(1, 226, 226, 3)\n",
    "d.squeeze(0).shape"
   ]
  },
  {
   "cell_type": "markdown",
   "metadata": {},
   "source": [
    "### Numpy vs Tensorflow"
   ]
  },
  {
   "cell_type": "code",
   "execution_count": null,
   "metadata": {},
   "outputs": [],
   "source": [
    "import numpy as np\n",
    "\n",
    "a = torch.tensor([1, 2, 3])\n",
    "b = a.numpy()\n",
    "print(b, type(b))\n",
    "\n",
    "a = np.array([1, 2, 3])\n",
    "b = torch.from_numpy(a)\n",
    "print(b, type(b))"
   ]
  },
  {
   "cell_type": "code",
   "execution_count": null,
   "metadata": {},
   "outputs": [],
   "source": []
  }
 ],
 "metadata": {
  "kernelspec": {
   "display_name": ".venv",
   "language": "python",
   "name": "python3"
  },
  "language_info": {
   "codemirror_mode": {
    "name": "ipython",
    "version": 3
   },
   "file_extension": ".py",
   "mimetype": "text/x-python",
   "name": "python",
   "nbconvert_exporter": "python",
   "pygments_lexer": "ipython3",
   "version": "3.12.4"
  }
 },
 "nbformat": 4,
 "nbformat_minor": 2
}
