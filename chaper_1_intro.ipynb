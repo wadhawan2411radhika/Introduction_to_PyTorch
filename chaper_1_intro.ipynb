{
 "cells": [
  {
   "cell_type": "code",
   "execution_count": 3,
   "metadata": {},
   "outputs": [
    {
     "name": "stdout",
     "output_type": "stream",
     "text": [
      "2.5.1\n"
     ]
    },
    {
     "name": "stderr",
     "output_type": "stream",
     "text": [
      "/Users/radhika/Desktop/Personal/Interview related content/NLP/Introduction_to_PyTorch/.venv/lib/python3.12/site-packages/torch/_subclasses/functional_tensor.py:295: UserWarning: Failed to initialize NumPy: No module named 'numpy' (Triggered internally at /Users/runner/work/pytorch/pytorch/pytorch/torch/csrc/utils/tensor_numpy.cpp:84.)\n",
      "  cpu = _conversion_method_template(device=torch.device(\"cpu\"))\n"
     ]
    }
   ],
   "source": [
    "import torch\n",
    "print(torch.__version__)"
   ]
  },
  {
   "cell_type": "code",
   "execution_count": 4,
   "metadata": {},
   "outputs": [
    {
     "name": "stdout",
     "output_type": "stream",
     "text": [
      "GPU is not available\n"
     ]
    }
   ],
   "source": [
    "if torch.cuda.is_available():\n",
    "    print('GPU is available')\n",
    "    print(torch.cuda.get_device_name(0))\n",
    "else:\n",
    "    print('GPU is not available')"
   ]
  },
  {
   "cell_type": "markdown",
   "metadata": {},
   "source": [
    "### Creating Tensors"
   ]
  },
  {
   "cell_type": "code",
   "execution_count": null,
   "metadata": {},
   "outputs": [
    {
     "name": "stdout",
     "output_type": "stream",
     "text": [
      "Empty tensor([[0., 0., 0.],\n",
      "        [0., 0., 0.]]) <class 'torch.Tensor'>\n",
      "Zeroes tensor([[0., 0., 0.],\n",
      "        [0., 0., 0.]])\n",
      "Ones tensor([[1., 1., 1.],\n",
      "        [1., 1., 1.]])\n",
      "Random from -1 to 1 tensor([[0.7663, 0.8685, 0.8751],\n",
      "        [0.7308, 0.1706, 0.9154]])\n"
     ]
    }
   ],
   "source": [
    "a = torch.empty(2,3)\n",
    "print(\"Empty\", a, type(a))\n",
    "\n",
    "b = torch.zeros(2,3)\n",
    "print(\"Zeroes\", b)\n",
    "\n",
    "c = torch.ones(2,3)\n",
    "print(\"Ones\", c)\n",
    "\n",
    "d = torch.rand(2,3)\n",
    "print(\"Random from 0 to 1\", d)\n",
    "#reserves memory for this tensor with values at that memory location"
   ]
  },
  {
   "cell_type": "code",
   "execution_count": 8,
   "metadata": {},
   "outputs": [
    {
     "name": "stdout",
     "output_type": "stream",
     "text": [
      "Random from normal distribution tensor([[ 0.3367,  0.1288,  0.2345],\n",
      "        [ 0.2303, -1.1229, -0.1863]])\n",
      "From list tensor([[1, 2, 3],\n",
      "        [4, 5, 6]])\n"
     ]
    }
   ],
   "source": [
    "torch.manual_seed(42)\n",
    "e = torch.randn(2,3)\n",
    "print(\"Random from normal distribution\", e)\n",
    "\n",
    "f = torch.tensor([[1, 2, 3], [4, 5, 6]])\n",
    "print(\"From list\", f)"
   ]
  },
  {
   "cell_type": "code",
   "execution_count": 9,
   "metadata": {},
   "outputs": [
    {
     "name": "stdout",
     "output_type": "stream",
     "text": [
      "Range tensor([0, 2, 4, 6, 8])\n",
      "Linspace tensor([ 0.0000,  2.5000,  5.0000,  7.5000, 10.0000])\n",
      "Identity matrix tensor([[1., 0., 0.],\n",
      "        [0., 1., 0.],\n",
      "        [0., 0., 1.]])\n",
      "Full tensor([[42, 42, 42],\n",
      "        [42, 42, 42]])\n"
     ]
    }
   ],
   "source": [
    "torch.arange(0, 10, 2)\n",
    "print(\"Range\", torch.arange(0, 10, 2))\n",
    "\n",
    "#Using linspace\n",
    "torch.linspace(0, 10, 5)\n",
    "print(\"Linspace\", torch.linspace(0, 10, 5))\n",
    "\n",
    "# Using eye | Identity matrix\n",
    "torch.eye(3)\n",
    "print(\"Identity matrix\", torch.eye(3))\n",
    "\n",
    "# Using full | All values are same\n",
    "torch.full((2,3), 42)\n",
    "print(\"Full\", torch.full((2,3), 42))"
   ]
  },
  {
   "cell_type": "markdown",
   "metadata": {},
   "source": [
    "### Tensor Shapes"
   ]
  },
  {
   "cell_type": "code",
   "execution_count": 15,
   "metadata": {},
   "outputs": [
    {
     "name": "stdout",
     "output_type": "stream",
     "text": [
      "torch.Size([2, 3])\n",
      "Empty_like tensor([[0, 0, 0],\n",
      "        [0, 0, 0]])\n",
      "Zeros_like tensor([[0, 0, 0],\n",
      "        [0, 0, 0]])\n",
      "Ones_like tensor([[1, 1, 1],\n",
      "        [1, 1, 1]])\n",
      "Rand_like tensor([[0.8694, 0.5677, 0.7411],\n",
      "        [0.4294, 0.8854, 0.5739]])\n"
     ]
    }
   ],
   "source": [
    "x = torch.tensor([[1, 2, 3], [4, 5, 6]])\n",
    "print(x.shape)\n",
    "\n",
    "## Using empty_like, zeros_like, ones_like, rand_like\n",
    "y = torch.empty_like(x)\n",
    "print(\"Empty_like\", y)\n",
    "\n",
    "z = torch.zeros_like(x)\n",
    "print(\"Zeros_like\", z)\n",
    "\n",
    "o = torch.ones_like(x)\n",
    "print(\"Ones_like\", o)\n",
    "\n",
    "r = torch.rand_like(x, dtype=torch.float32)\n",
    "print(\"Rand_like\", r)"
   ]
  },
  {
   "cell_type": "markdown",
   "metadata": {},
   "source": [
    "### Tensor Data Types"
   ]
  },
  {
   "cell_type": "code",
   "execution_count": 12,
   "metadata": {},
   "outputs": [
    {
     "data": {
      "text/plain": [
       "torch.int64"
      ]
     },
     "execution_count": 12,
     "metadata": {},
     "output_type": "execute_result"
    }
   ],
   "source": [
    "x.dtype"
   ]
  },
  {
   "cell_type": "code",
   "execution_count": 16,
   "metadata": {},
   "outputs": [
    {
     "name": "stdout",
     "output_type": "stream",
     "text": [
      "tensor([[1., 2., 3.],\n",
      "        [4., 5., 6.]]) torch.float32\n"
     ]
    }
   ],
   "source": [
    "## assign dtype\n",
    "x = torch.tensor([[1, 2, 3], [4, 5, 6]], dtype=torch.float32)\n",
    "print(x, x.dtype)"
   ]
  },
  {
   "cell_type": "markdown",
   "metadata": {},
   "source": [
    "### Mathematical Operations"
   ]
  },
  {
   "cell_type": "code",
   "execution_count": 17,
   "metadata": {},
   "outputs": [
    {
     "name": "stdout",
     "output_type": "stream",
     "text": [
      "Mat Mul tensor([[0.1452, 0.3908],\n",
      "        [0.1265, 0.3432]])\n",
      "Element wise multiplication tensor([[0.0792, 0.5218],\n",
      "        [0.0284, 0.1189]])\n"
     ]
    }
   ],
   "source": [
    "a = torch.rand(2, 2)\n",
    "b = torch.rand(2, 2)\n",
    "\n",
    "## Addition\n",
    "c = a + b\n",
    "\n",
    "## Subtraction\n",
    "d = a - b\n",
    "\n",
    "## Multiplication\n",
    "e = a * b\n",
    "\n",
    "## Division\n",
    "f = a / b\n",
    "\n",
    "## Matrix Multiplication(Mat Mul)\n",
    "g = a @ b\n",
    "print(\"Mat Mul\", g)\n",
    "\n",
    "## Element wise multiplication\n",
    "h = a.mul(b)\n",
    "print(\"Element wise multiplication\", h)"
   ]
  },
  {
   "cell_type": "markdown",
   "metadata": {},
   "source": [
    "### Reduction Operation"
   ]
  },
  {
   "cell_type": "code",
   "execution_count": 20,
   "metadata": {},
   "outputs": [
    {
     "name": "stdout",
     "output_type": "stream",
     "text": [
      "All tensor(21.)\n",
      "Sum along axis 0 tensor([5., 7., 9.])\n",
      "Sum along axis 1 tensor([ 6., 15.])\n"
     ]
    }
   ],
   "source": [
    "a = torch.tensor([[1, 2, 3], [4, 5, 6]], dtype=torch.float32)\n",
    "print(\"All\", torch.sum(a))\n",
    "\n",
    "## Sum along axis\n",
    "print(\"Sum along axis 0\", torch.sum(a, axis=0))\n",
    "\n",
    "print(\"Sum along axis 1\", torch.sum(a, axis=1))\n"
   ]
  },
  {
   "cell_type": "code",
   "execution_count": 21,
   "metadata": {},
   "outputs": [
    {
     "name": "stdout",
     "output_type": "stream",
     "text": [
      "Mean tensor(3.5000)\n"
     ]
    }
   ],
   "source": [
    "## Mean\n",
    "print(\"Mean\", torch.mean(a))"
   ]
  },
  {
   "cell_type": "code",
   "execution_count": 24,
   "metadata": {},
   "outputs": [
    {
     "data": {
      "text/plain": [
       "tensor([[ 1.,  4.,  9.],\n",
       "        [16., 25., 36.]])"
      ]
     },
     "execution_count": 24,
     "metadata": {},
     "output_type": "execute_result"
    }
   ],
   "source": [
    "a = torch.tensor([[1, 2, 3], [4, 5, 6]], dtype=torch.float32)\n",
    "b = torch.tensor([[1, 2, 3], [4, 5, 6]], dtype=torch.float32)\n",
    "\n",
    "## Mat Mul\n",
    "a@b.T\n",
    "\n",
    "## Element wise multiplication\n",
    "a.mul(b)"
   ]
  },
  {
   "cell_type": "markdown",
   "metadata": {},
   "source": [
    "### Inplace operations"
   ]
  },
  {
   "cell_type": "code",
   "execution_count": 25,
   "metadata": {},
   "outputs": [
    {
     "name": "stdout",
     "output_type": "stream",
     "text": [
      "Before tensor([[1., 2., 3.],\n",
      "        [4., 5., 6.]])\n",
      "After tensor([[3., 4., 5.],\n",
      "        [6., 7., 8.]])\n"
     ]
    }
   ],
   "source": [
    "## inplace operations\n",
    "a = torch.tensor([[1, 2, 3], [4, 5, 6]], dtype=torch.float32)\n",
    "print(\"Before\", a)\n",
    "\n",
    "a.add_(2)\n",
    "print(\"After\", a)"
   ]
  },
  {
   "cell_type": "code",
   "execution_count": 26,
   "metadata": {},
   "outputs": [
    {
     "name": "stdout",
     "output_type": "stream",
     "text": [
      "Before tensor([[1., 2., 3.],\n",
      "        [4., 5., 6.]])\n",
      "Before tensor([[1., 2., 3.],\n",
      "        [4., 5., 6.]])\n",
      "After tensor([[3., 4., 5.],\n",
      "        [6., 7., 8.]])\n",
      "After tensor([[1., 2., 3.],\n",
      "        [4., 5., 6.]])\n"
     ]
    }
   ],
   "source": [
    "## copying tensors\n",
    "a = torch.tensor([[1, 2, 3], [4, 5, 6]], dtype=torch.float32)\n",
    "b = a.clone()\n",
    "print(\"Before\", a)\n",
    "print(\"Before\", b)\n",
    "\n",
    "a.add_(2)\n",
    "print(\"After\", a)\n",
    "print(\"After\", b)"
   ]
  },
  {
   "cell_type": "markdown",
   "metadata": {},
   "source": [
    "### Tensor Operations on GPU"
   ]
  },
  {
   "cell_type": "code",
   "execution_count": 27,
   "metadata": {},
   "outputs": [
    {
     "name": "stdout",
     "output_type": "stream",
     "text": [
      "cpu\n",
      "tensor([[1., 2., 3.],\n",
      "        [4., 5., 6.]])\n"
     ]
    }
   ],
   "source": [
    "device = 'cuda' if torch.cuda.is_available() else 'cpu'\n",
    "print(device)\n",
    "\n",
    "## Create tensor on GPU\n",
    "a = torch.tensor([[1, 2, 3], [4, 5, 6]], dtype=torch.float32, device=device)\n",
    "print(a)    \n",
    "\n",
    "## Move tensor to GPU\n",
    "a = torch.tensor([[1, 2, 3], [4, 5, 6]], dtype=torch.float32)\n",
    "print(a)\n",
    "\n",
    "a = a.to(device)\n",
    "print(a)"
   ]
  },
  {
   "cell_type": "code",
   "execution_count": 29,
   "metadata": {},
   "outputs": [
    {
     "data": {
      "text/plain": [
       "torch.Size([2, 3, 4])"
      ]
     },
     "execution_count": 29,
     "metadata": {},
     "output_type": "execute_result"
    }
   ],
   "source": [
    "b = torch.rand(2, 3, 4)\n",
    "b.shape"
   ]
  },
  {
   "cell_type": "code",
   "execution_count": 30,
   "metadata": {},
   "outputs": [
    {
     "data": {
      "text/plain": [
       "torch.Size([3, 2, 4])"
      ]
     },
     "execution_count": 30,
     "metadata": {},
     "output_type": "execute_result"
    }
   ],
   "source": [
    "b.permute(1, 0, 2).shape"
   ]
  },
  {
   "cell_type": "code",
   "execution_count": 31,
   "metadata": {},
   "outputs": [
    {
     "data": {
      "text/plain": [
       "torch.Size([1, 226, 226, 3])"
      ]
     },
     "execution_count": 31,
     "metadata": {},
     "output_type": "execute_result"
    }
   ],
   "source": [
    "## UnSqueeze\n",
    "\n",
    "c = torch.rand(226, 226, 3)\n",
    "c.unsqueeze(0).shape"
   ]
  },
  {
   "cell_type": "code",
   "execution_count": 32,
   "metadata": {},
   "outputs": [
    {
     "data": {
      "text/plain": [
       "torch.Size([226, 226, 3])"
      ]
     },
     "execution_count": 32,
     "metadata": {},
     "output_type": "execute_result"
    }
   ],
   "source": [
    "d = torch.rand(1, 226, 226, 3)\n",
    "d.squeeze(0).shape"
   ]
  },
  {
   "cell_type": "markdown",
   "metadata": {},
   "source": [
    "### Numpy vs Tensorflow"
   ]
  },
  {
   "cell_type": "code",
   "execution_count": null,
   "metadata": {},
   "outputs": [],
   "source": [
    "import numpy as np\n",
    "\n",
    "a = torch.tensor([1, 2, 3])\n",
    "b = a.numpy()\n",
    "print(b, type(b))\n",
    "\n",
    "a = np.array([1, 2, 3])\n",
    "b = torch.from_numpy(a)\n",
    "print(b, type(b))"
   ]
  },
  {
   "cell_type": "code",
   "execution_count": null,
   "metadata": {},
   "outputs": [],
   "source": []
  }
 ],
 "metadata": {
  "kernelspec": {
   "display_name": ".venv",
   "language": "python",
   "name": "python3"
  },
  "language_info": {
   "codemirror_mode": {
    "name": "ipython",
    "version": 3
   },
   "file_extension": ".py",
   "mimetype": "text/x-python",
   "name": "python",
   "nbconvert_exporter": "python",
   "pygments_lexer": "ipython3",
   "version": "3.12.4"
  }
 },
 "nbformat": 4,
 "nbformat_minor": 2
}
